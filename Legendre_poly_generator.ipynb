{
 "cells": [
  {
   "cell_type": "code",
   "execution_count": 15,
   "metadata": {},
   "outputs": [],
   "source": [
    "from scipy.special import legendre\n",
    "import numpy as np\n",
    "import math"
   ]
  },
  {
   "cell_type": "code",
   "execution_count": 44,
   "metadata": {},
   "outputs": [
    {
     "data": {
      "text/plain": [
       "poly1d([ 4.37500000e+00,  4.85722573e-16, -3.75000000e+00,  2.42861287e-16,\n",
       "        3.75000000e-01])"
      ]
     },
     "execution_count": 44,
     "metadata": {},
     "output_type": "execute_result"
    }
   ],
   "source": [
    "legendre(4)#maximum"
   ]
  },
  {
   "cell_type": "code",
   "execution_count": 88,
   "metadata": {},
   "outputs": [],
   "source": [
    "#generate the table in series\n",
    "def asso_P_coe(m,n):\n",
    "    final = []\n",
    "    for i in range (n-abs(m)+1):\n",
    "        final.append(np.array(legendre(n))[i]*(-1)**m*(math.factorial(n-i))/(math.factorial(n-i-abs(m))))\n",
    "    output = np.array(final)\n",
    "    if (m<0):\n",
    "        output *= (-1)**m*(math.factorial(n-abs(m)))/(math.factorial(n+abs(m)))\n",
    "    return (output)\n",
    "\n",
    "    \n"
   ]
  },
  {
   "cell_type": "code",
   "execution_count": 103,
   "metadata": {},
   "outputs": [
    {
     "data": {
      "text/plain": [
       "array([ 1.5,  0. , -0.5])"
      ]
     },
     "execution_count": 103,
     "metadata": {},
     "output_type": "execute_result"
    }
   ],
   "source": [
    "asso_P_coe(0,2)#coefficient of cos(theta)**m"
   ]
  },
  {
   "cell_type": "code",
   "execution_count": 111,
   "metadata": {},
   "outputs": [],
   "source": [
    "path = 'Associated_Legendre_COE.txt'\n",
    "f = open(path,'w')\n",
    "print (\"(m,n)\",file=f)\n",
    "for n in range (85):\n",
    "    for m in range (-n,n+1):\n",
    "        print (\"(%d,%d)\"%(m,n),file=f)\n",
    "        COE = asso_P_coe(m,n)\n",
    "        for i in range (len(COE)):\n",
    "            print (\"%f,\"%COE[i],file=f,end='')\n",
    "        print ('',file=f)\n",
    "f.close()"
   ]
  }
 ],
 "metadata": {
  "interpreter": {
   "hash": "aee8b7b246df8f9039afb4144a1f6fd8d2ca17a180786b69acc140d282b71a49"
  },
  "kernelspec": {
   "display_name": "Python 3.10.1 64-bit",
   "language": "python",
   "name": "python3"
  },
  "language_info": {
   "codemirror_mode": {
    "name": "ipython",
    "version": 3
   },
   "file_extension": ".py",
   "mimetype": "text/x-python",
   "name": "python",
   "nbconvert_exporter": "python",
   "pygments_lexer": "ipython3",
   "version": "3.10.1"
  },
  "orig_nbformat": 4
 },
 "nbformat": 4,
 "nbformat_minor": 2
}
