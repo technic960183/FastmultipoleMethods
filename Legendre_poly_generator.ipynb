{
 "cells": [
  {
   "cell_type": "code",
   "execution_count": 9,
   "metadata": {},
   "outputs": [],
   "source": [
    "from scipy.special import legendre, factorial\n",
    "import numpy as np\n",
    "import math\n"
   ]
  },
  {
   "cell_type": "code",
   "execution_count": 3,
   "metadata": {},
   "outputs": [
    {
     "data": {
      "text/plain": [
       "poly1d([ 4.37500000e+00,  4.85722573e-16, -3.75000000e+00,  2.42861287e-16,\n",
       "        3.75000000e-01])"
      ]
     },
     "execution_count": 3,
     "metadata": {},
     "output_type": "execute_result"
    }
   ],
   "source": [
    "legendre(4)  # maximum\n"
   ]
  },
  {
   "cell_type": "code",
   "execution_count": 4,
   "metadata": {},
   "outputs": [],
   "source": [
    "# generate the table in series\n",
    "# !!! CONTAIN round-off error !!!\n",
    "def asso_P_coe(m, n):\n",
    "    final = []\n",
    "    for i in range(n-abs(m)+1):\n",
    "        final.append(np.array(legendre(n))[\n",
    "                     i]*(-1)**m*(math.factorial(n-i))/(math.factorial(n-i-abs(m))))\n",
    "    output = np.array(final, dtype=np.float64)\n",
    "    if (m < 0):\n",
    "        output *= (-1)**m*(math.factorial(n-abs(m)))/(math.factorial(n+abs(m)))\n",
    "    output[1::2] = 0  # Eliminate error to 0\n",
    "    return output\n"
   ]
  },
  {
   "cell_type": "code",
   "execution_count": 5,
   "metadata": {},
   "outputs": [
    {
     "data": {
      "text/plain": [
       "array([52.5,  0. , -7.5])"
      ]
     },
     "execution_count": 5,
     "metadata": {},
     "output_type": "execute_result"
    }
   ],
   "source": [
    "asso_P_coe(2, 4)  # coefficient of cos(theta)**m\n"
   ]
  },
  {
   "cell_type": "code",
   "execution_count": 6,
   "metadata": {},
   "outputs": [],
   "source": [
    "# length of P^n_m = n+1-m\n",
    "# Max n = 84\n",
    "\n",
    "path = 'Associated_Legendre_COE.bin'\n",
    "f = open(path, 'wb')\n",
    "for n in range(40):\n",
    "    for m in range(0, n+1):\n",
    "        COE = asso_P_coe(m, n)\n",
    "        for i in range(len(COE)):\n",
    "            f.write(COE[len(COE)-1-i])\n",
    "f.flush()\n",
    "f.close()\n"
   ]
  },
  {
   "cell_type": "code",
   "execution_count": 7,
   "metadata": {},
   "outputs": [],
   "source": [
    "# Read out\n",
    "P_coeff = np.zeros(shape=(40, 40, 40))\n",
    "path = 'Associated_Legendre_COE.bin'\n",
    "f = open(path, \"rb\")\n",
    "data = np.fromfile(f, np.float64)\n",
    "f.close()\n",
    "count = 0\n",
    "for n in range(40):\n",
    "    for m in range(0, n+1):\n",
    "        for i in range(n+1-m):\n",
    "            P_coeff[n, m, i] = data[count]\n",
    "            count += 1\n"
   ]
  },
  {
   "cell_type": "code",
   "execution_count": 12,
   "metadata": {},
   "outputs": [],
   "source": [
    "A_coeff = np.zeros(shape=(40,40)) # np.sqrt( (n-|m|)! / (n+|m|)! )\n",
    "for n in range(39+1):\n",
    "    for m in range(0, n+1):\n",
    "        A_coeff[n,m] = np.sqrt(factorial(n-abs(m))/factorial(n+abs(m)))\n",
    "path = 'Spherical_Harmonics_COE.bin'\n",
    "f = open(path, 'wb')\n",
    "for n in range(40):\n",
    "    for m in range(0, n+1):\n",
    "        f.write(A_coeff[n,m])\n",
    "f.flush()\n",
    "f.close()"
   ]
  },
  {
   "cell_type": "code",
   "execution_count": null,
   "metadata": {},
   "outputs": [],
   "source": [
    "# Read out\n",
    "A_coeff = np.zeros(shape=(40,40))\n",
    "path = 'Spherical_Harmonics_COE.bin'\n",
    "f = open(path, \"rb\")\n",
    "data = np.fromfile(f, np.float64)\n",
    "f.close()\n",
    "count = 0\n",
    "for n in range(40):\n",
    "    for m in range(0, n+1):\n",
    "        A_coeff[n, m] = data[count]\n",
    "        count += 1"
   ]
  }
 ],
 "metadata": {
  "kernelspec": {
   "display_name": "Python 3.7.5 64-bit",
   "language": "python",
   "name": "python3"
  },
  "language_info": {
   "codemirror_mode": {
    "name": "ipython",
    "version": 3
   },
   "file_extension": ".py",
   "mimetype": "text/x-python",
   "name": "python",
   "nbconvert_exporter": "python",
   "pygments_lexer": "ipython3",
   "version": "3.7.5"
  },
  "orig_nbformat": 4,
  "vscode": {
   "interpreter": {
    "hash": "fd9c1a0a128020410df4605db2c4755acdb7550ad8223d84799f97ba65fba01e"
   }
  }
 },
 "nbformat": 4,
 "nbformat_minor": 2
}
