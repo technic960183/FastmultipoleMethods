{
 "cells": [
  {
   "cell_type": "code",
   "execution_count": 86,
   "metadata": {},
   "outputs": [],
   "source": [
    "import numpy as np\n",
    "import scipy.special as sp\n"
   ]
  },
  {
   "cell_type": "code",
   "execution_count": 159,
   "metadata": {},
   "outputs": [],
   "source": [
    "def CarToSph(xyz):\n",
    "    if len(xyz.shape)==2:\n",
    "        x, y, z = xyz[:,0], xyz[:,1], xyz[:,2]\n",
    "    elif len(xyz.shape)==1:\n",
    "        x, y, z = xyz[0], xyz[1], xyz[2]\n",
    "    r = np.sqrt(x**2+y**2+z**2)\n",
    "    theta = np.arccos(z/r)\n",
    "    phi = np.arctan2(y, x)\n",
    "    return r, theta, phi\n",
    "\n",
    "\n",
    "def SphToCar(r, theta, phi):\n",
    "    x = r*np.cos(phi)*np.sin(theta)\n",
    "    y = r*np.sin(phi)*np.sin(theta)\n",
    "    z = r*np.sin(theta)\n",
    "    return x, y, z\n"
   ]
  },
  {
   "cell_type": "code",
   "execution_count": 3,
   "metadata": {},
   "outputs": [],
   "source": [
    "N = 1000\n",
    "particle = np.random.uniform(size=(N, 4))\n"
   ]
  },
  {
   "cell_type": "code",
   "execution_count": 96,
   "metadata": {},
   "outputs": [],
   "source": [
    "eps = 10**-2\n",
    "p = int(np.ceil(-np.log(eps)/np.log(3**0.5)))\n"
   ]
  },
  {
   "cell_type": "code",
   "execution_count": 72,
   "metadata": {},
   "outputs": [],
   "source": [
    "level = int(np.ceil(np.log2(N)/3)) + 1\n",
    "idx_particle = -np.ones(shape=(N, level, 3), dtype=np.int32)\n",
    "for i in range(N):\n",
    "    idx_particle[i, 0, :] = 0\n",
    "    residu = particle[i, :3]\n",
    "    for j in range(1, level):\n",
    "        split = np.int32(residu > 0.5)\n",
    "        idx_particle[i, j, :] = idx_particle[i, j-1, :]*2+split\n",
    "        residu = 2*residu-split\n"
   ]
  },
  {
   "cell_type": "code",
   "execution_count": 102,
   "metadata": {},
   "outputs": [],
   "source": [
    "def XYZToL(idx, level):\n",
    "    n = 2**level\n",
    "    return idx[2]*n*n+idx[1]*n+idx[0]\n",
    "\n",
    "\n",
    "def LToXYZ(l, level):\n",
    "    n = 2**level\n",
    "    z = l//(n*n)\n",
    "    y = (l-z*n*n)//n\n",
    "    x = (l-z*n*n) % n\n",
    "    return np.array([x, y, z])\n"
   ]
  },
  {
   "cell_type": "code",
   "execution_count": 103,
   "metadata": {},
   "outputs": [
    {
     "data": {
      "text/plain": [
       "array([541, 342, 247])"
      ]
     },
     "execution_count": 103,
     "metadata": {},
     "output_type": "execute_result"
    }
   ],
   "source": [
    "LToXYZ(XYZToL([541, 342, 247], 10), 10)\n"
   ]
  },
  {
   "cell_type": "code",
   "execution_count": 73,
   "metadata": {},
   "outputs": [],
   "source": [
    "tree_idx = [[[] for j in range(8**i)] for i in range(level)]\n",
    "for i in range(level):\n",
    "    for j in range(N):\n",
    "        tree_idx[i][XYZToL(idx_particle[j, i, :], i)].append(j)\n"
   ]
  },
  {
   "cell_type": "code",
   "execution_count": 81,
   "metadata": {},
   "outputs": [],
   "source": [
    "def CellCenter(idx, level):\n",
    "    return idx*2**(-level)+2**(-level-1)\n"
   ]
  },
  {
   "cell_type": "code",
   "execution_count": 82,
   "metadata": {},
   "outputs": [],
   "source": [
    "def NeighboursRange(center_idx, center_level):\n",
    "    return [np.maximum(0, center_idx[center_level, :]-1), np.minimum(2**center_level-1, center_idx[center_level, :]+1)]\n",
    "\n",
    "\n",
    "def NeighboursChildRange(center_idx, center_level):\n",
    "    return [np.maximum(0, 2*(center_idx[center_level, :]-1)), np.minimum(2**(center_level+1)-1, 2*center_idx[center_level, :]+3)]\n"
   ]
  },
  {
   "cell_type": "code",
   "execution_count": 78,
   "metadata": {},
   "outputs": [
    {
     "data": {
      "text/plain": [
       "(array([2, 3, 2]), array([5, 7, 4]))"
      ]
     },
     "execution_count": 78,
     "metadata": {},
     "output_type": "execute_result"
    }
   ],
   "source": [
    "idx_particle[0, 2, :], idx_particle[0, 3, :]\n"
   ]
  },
  {
   "cell_type": "code",
   "execution_count": 83,
   "metadata": {},
   "outputs": [
    {
     "data": {
      "text/plain": [
       "[array([1, 2, 1]), array([3, 3, 3])]"
      ]
     },
     "execution_count": 83,
     "metadata": {},
     "output_type": "execute_result"
    }
   ],
   "source": [
    "NeighboursRange(idx_particle[0, :, :], 2)\n"
   ]
  },
  {
   "cell_type": "code",
   "execution_count": 84,
   "metadata": {},
   "outputs": [
    {
     "data": {
      "text/plain": [
       "[array([2, 4, 2]), array([7, 7, 7])]"
      ]
     },
     "execution_count": 84,
     "metadata": {},
     "output_type": "execute_result"
    }
   ],
   "source": [
    "NeighboursChildRange(idx_particle[0, :, :], 2)\n"
   ]
  },
  {
   "cell_type": "code",
   "execution_count": 85,
   "metadata": {},
   "outputs": [
    {
     "data": {
      "text/plain": [
       "[array([4, 6, 3]), array([6, 7, 5])]"
      ]
     },
     "execution_count": 85,
     "metadata": {},
     "output_type": "execute_result"
    }
   ],
   "source": [
    "NeighboursRange(idx_particle[0, :, :], 3)\n"
   ]
  },
  {
   "cell_type": "code",
   "execution_count": 84,
   "metadata": {},
   "outputs": [],
   "source": [
    "def InteractionList(cell_idx, N_level):\n",
    "    for i in range(N_level):\n",
    "        # Range of parent's neighbours\n",
    "        incluide = NeighboursChildRange(cell_idx, i-1)\n",
    "        exclude = NeighboursRange(cell_idx, i)  # Range of neighbours\n"
   ]
  },
  {
   "cell_type": "code",
   "execution_count": 176,
   "metadata": {},
   "outputs": [],
   "source": [
    "def Y(m, n, theta, phi):\n",
    "    y = np.sqrt(sp.factorial(n-abs(m))/sp.factorial(n+abs(m)))\\\n",
    "        * sp.lpmn(abs(m), n, np.cos(theta))[0][-1][n]*np.cos(m*phi)\n",
    "    return y\n",
    "\n",
    "\n",
    "def M(m, n, mass, relat_xyz):\n",
    "    corr_sph = CarToSph(relat_xyz)\n",
    "    sum = 0\n",
    "    for k in range(mass.shape[0]):\n",
    "        sum += mass[k]*corr_sph[0][k]**n * \\\n",
    "            Y(-m, n, corr_sph[1][k], corr_sph[2][k])\n",
    "    return sum\n",
    "\n",
    "\n",
    "def phi(relat_xyz, M_coeff):\n",
    "    corr_sph = CarToSph(relat_xyz)\n",
    "    tot = 0\n",
    "    for n in range(M_coeff.shape[0]):\n",
    "        for m in range(0, n+1):  # range(-n, n+1):\n",
    "            if m == 0:\n",
    "                tot += M_coeff[n, m]*Y(m, n, corr_sph[1],\n",
    "                                       corr_sph[2])/(corr_sph[0]**(n+1))\n",
    "            else:\n",
    "                tot += 2*M_coeff[n, m]*Y(m, n, corr_sph[1],\n",
    "                                         corr_sph[2])/(corr_sph[0]**(n+1))\n",
    "    return tot\n"
   ]
  },
  {
   "cell_type": "code",
   "execution_count": 134,
   "metadata": {},
   "outputs": [],
   "source": [
    "# O(NlogN) scheme\n",
    "\n",
    "M_tree = [np.zeros(shape=(8**i, p+1, p+1)) for i in range(level)]\n",
    "for i in range(level):\n",
    "    for j in range(8**i):\n",
    "        idx = np.array(tree_idx[i][j])\n",
    "        if len(idx) == 0:\n",
    "            continue\n",
    "        XYZ = particle[idx, :3] - CellCenter(LToXYZ(j, i), i)\n",
    "        mass = particle[idx, 3]\n",
    "        for n in range(p+1):\n",
    "            for m in range(0, n+1):\n",
    "                M_tree[i][j, n, m] = M(m, n, mass, XYZ)"
   ]
  },
  {
   "cell_type": "code",
   "execution_count": 180,
   "metadata": {},
   "outputs": [],
   "source": [
    "potential = np.zeros(N)\n",
    "for i in range(N):\n",
    "    incl = NeighboursRange(idx_particle[i, :, :], level-1) # Direct evaluate\n",
    "    for x in range(incl[0][0], incl[1][0]+1):\n",
    "        for y in range(incl[0][1], incl[1][1]+1):\n",
    "            for z in range(incl[0][2], incl[1][2]+1):\n",
    "                index = np.array(tree_idx[level-1][XYZToL([x, y, z], level-1)])\n",
    "                if len(idx) == 0:\n",
    "                    continue\n",
    "                for id in index:\n",
    "                    if id == i:\n",
    "                        continue\n",
    "                    dXYZ = particle[id, :3] - particle[i, :3]\n",
    "                    r = np.sqrt(np.sum(dXYZ**2))\n",
    "                    potential[i] += particle[id, 3]/r\n",
    "    for j in range(2, level):\n",
    "        # Range of parent's neighbours\n",
    "        incl = NeighboursChildRange(idx_particle[i, :, :], j-1)\n",
    "        excl = NeighboursRange(idx_particle[i, :, :], j)  # Range of neighbours\n",
    "        for x in range(incl[0][0], incl[1][0]+1):\n",
    "            for y in range(incl[0][1], incl[1][1]+1):\n",
    "                for z in range(incl[0][2], incl[1][2]+1):\n",
    "                    if excl[0][0] <= x and excl[1][0] >= x and excl[0][1] <= y and excl[1][1] >= y and excl[0][2] <= z and excl[1][2] >= z:\n",
    "                        continue\n",
    "                    RelativeXYZ = particle[i, :3] - CellCenter(np.array([x, y, z]), i)\n",
    "                    potential[i] += phi(RelativeXYZ, M_tree[j][XYZToL([x, y, z], j), :, :])\n",
    "                    "
   ]
  },
  {
   "cell_type": "code",
   "execution_count": 171,
   "metadata": {},
   "outputs": [],
   "source": [
    "potential_direct = np.zeros(N)\n",
    "for i in range(N):\n",
    "    for j in range(N):\n",
    "        if i == j:\n",
    "            continue\n",
    "        dXYZ = particle[j, :3] - particle[i, :3]\n",
    "        r = np.sqrt(np.sum(dXYZ**2))\n",
    "        potential_direct[i] += particle[j, 3]/r\n"
   ]
  },
  {
   "cell_type": "code",
   "execution_count": null,
   "metadata": {},
   "outputs": [],
   "source": [
    "import matplotlib.pyplot as plt\n",
    "plt.figure(figsize=(10,8))\n",
    "plt.scatter(potential,potential_direct,s=2)\n",
    "plt.axis(\"equal\")\n",
    "plt.xlim([200,1800])\n",
    "plt.xlabel(\"FMM\")\n",
    "plt.ylabel(\"Direct-N\")"
   ]
  },
  {
   "cell_type": "code",
   "execution_count": null,
   "metadata": {},
   "outputs": [],
   "source": []
  }
 ],
 "metadata": {
  "interpreter": {
   "hash": "fd9c1a0a128020410df4605db2c4755acdb7550ad8223d84799f97ba65fba01e"
  },
  "kernelspec": {
   "display_name": "Python 3.7.5 64-bit",
   "language": "python",
   "name": "python3"
  },
  "language_info": {
   "codemirror_mode": {
    "name": "ipython",
    "version": 3
   },
   "file_extension": ".py",
   "mimetype": "text/x-python",
   "name": "python",
   "nbconvert_exporter": "python",
   "pygments_lexer": "ipython3",
   "version": "3.7.5"
  },
  "orig_nbformat": 4
 },
 "nbformat": 4,
 "nbformat_minor": 2
}
