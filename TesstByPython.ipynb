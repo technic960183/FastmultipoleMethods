{
 "cells": [
  {
   "cell_type": "code",
   "execution_count": 1,
   "metadata": {},
   "outputs": [],
   "source": [
    "import numpy as np\n",
    "import scipy as sp\n"
   ]
  },
  {
   "cell_type": "code",
   "execution_count": 2,
   "metadata": {},
   "outputs": [],
   "source": [
    "def CarToSph(x, y, z):\n",
    "    r = np.sqrt(x**2+y**2+z**2)\n",
    "    theta = np.arccos(z/r)\n",
    "    phi = np.arctan2(y, x)\n",
    "    return r, theta, phi\n",
    "\n",
    "\n",
    "def SphToCar(r, theta, phi):\n",
    "    x = r*np.cos(phi)*np.sin(theta)\n",
    "    y = r*np.sin(phi)*np.sin(theta)\n",
    "    z = r*np.sin(theta)\n"
   ]
  },
  {
   "cell_type": "code",
   "execution_count": 3,
   "metadata": {},
   "outputs": [],
   "source": [
    "N = 1000\n",
    "particle = np.random.uniform(size=(N, 4))\n"
   ]
  },
  {
   "cell_type": "code",
   "execution_count": 72,
   "metadata": {},
   "outputs": [],
   "source": [
    "level = int(np.ceil(np.log2(N)/3)) + 1\n",
    "idx_particle = -np.ones(shape=(N, level, 3), dtype=np.int32)\n",
    "for i in range(N):\n",
    "    idx_particle[i, 0, :] = 0\n",
    "    residu = particle[i, :3]\n",
    "    for j in range(1, level):\n",
    "        split = np.int32(residu > 0.5)\n",
    "        idx_particle[i, j, :] = idx_particle[i, j-1, :]*2+split\n",
    "        residu = 2*residu-split"
   ]
  },
  {
   "cell_type": "code",
   "execution_count": 35,
   "metadata": {},
   "outputs": [],
   "source": [
    "def XYZToL(idx,n):\n",
    "    return idx[2]*n*n+idx[1]*n+idx[0]\n",
    "\n",
    "def LToXYZ(l,n):\n",
    "    z = l//(n*n)\n",
    "    y = (l-z*n*n)//n\n",
    "    x = (l-z*n*n)%n\n",
    "    return np.array([x,y,z])"
   ]
  },
  {
   "cell_type": "code",
   "execution_count": 38,
   "metadata": {},
   "outputs": [
    {
     "data": {
      "text/plain": [
       "array([541, 342, 247])"
      ]
     },
     "execution_count": 38,
     "metadata": {},
     "output_type": "execute_result"
    }
   ],
   "source": [
    "LToXYZ(XYZToL([541,342,247],2**10),2**10)"
   ]
  },
  {
   "cell_type": "code",
   "execution_count": 73,
   "metadata": {},
   "outputs": [],
   "source": [
    "tree_idx = [[[] for j in range(8**i)] for i in range(level)]\n",
    "for i in range(level):\n",
    "    for j in range(N):\n",
    "        tree_idx[i][XYZToL(idx_particle[j,i,:],2**i)].append(j)\n",
    "    "
   ]
  },
  {
   "cell_type": "code",
   "execution_count": 81,
   "metadata": {},
   "outputs": [],
   "source": [
    "def CellCenter(idx, level):\n",
    "    return idx*2**(-level)+2**(-level-1)\n"
   ]
  },
  {
   "cell_type": "code",
   "execution_count": 82,
   "metadata": {},
   "outputs": [],
   "source": [
    "def NeighboursRange(center_idx, center_level):\n",
    "    return [np.maximum(0, center_idx[center_level, :]-1), np.minimum(2**center_level-1, center_idx[center_level, :]+1)]\n",
    "\n",
    "\n",
    "def NeighboursChildRange(center_idx, center_level):\n",
    "    return [np.maximum(0, 2*(center_idx[center_level, :]-1)), np.minimum(2**(center_level+1)-1, 2*center_idx[center_level, :]+3)]\n"
   ]
  },
  {
   "cell_type": "code",
   "execution_count": 78,
   "metadata": {},
   "outputs": [
    {
     "data": {
      "text/plain": [
       "(array([2, 3, 2]), array([5, 7, 4]))"
      ]
     },
     "execution_count": 78,
     "metadata": {},
     "output_type": "execute_result"
    }
   ],
   "source": [
    "idx_particle[0, 2, :], idx_particle[0, 3, :]\n"
   ]
  },
  {
   "cell_type": "code",
   "execution_count": 83,
   "metadata": {},
   "outputs": [
    {
     "data": {
      "text/plain": [
       "[array([1, 2, 1]), array([3, 3, 3])]"
      ]
     },
     "execution_count": 83,
     "metadata": {},
     "output_type": "execute_result"
    }
   ],
   "source": [
    "NeighboursRange(idx_particle[0, :, :], 2)"
   ]
  },
  {
   "cell_type": "code",
   "execution_count": 84,
   "metadata": {},
   "outputs": [
    {
     "data": {
      "text/plain": [
       "[array([2, 4, 2]), array([7, 7, 7])]"
      ]
     },
     "execution_count": 84,
     "metadata": {},
     "output_type": "execute_result"
    }
   ],
   "source": [
    "NeighboursChildRange(idx_particle[0, :, :], 2)"
   ]
  },
  {
   "cell_type": "code",
   "execution_count": 85,
   "metadata": {},
   "outputs": [
    {
     "data": {
      "text/plain": [
       "[array([4, 6, 3]), array([6, 7, 5])]"
      ]
     },
     "execution_count": 85,
     "metadata": {},
     "output_type": "execute_result"
    }
   ],
   "source": [
    "NeighboursRange(idx_particle[0, :, :], 3)"
   ]
  },
  {
   "cell_type": "code",
   "execution_count": 84,
   "metadata": {},
   "outputs": [],
   "source": [
    "def InteractionList(cell_idx, N_level):\n",
    "    for i in range(N_level):\n",
    "        incluide = NeighboursChildRange(cell_idx, i-1) # Range of parent's neighbours\n",
    "        exclude = NeighboursRange(cell_idx, i) # Range of neighbours\n"
   ]
  },
  {
   "cell_type": "code",
   "execution_count": null,
   "metadata": {},
   "outputs": [],
   "source": []
  }
 ],
 "metadata": {
  "interpreter": {
   "hash": "fd9c1a0a128020410df4605db2c4755acdb7550ad8223d84799f97ba65fba01e"
  },
  "kernelspec": {
   "display_name": "Python 3.7.5 64-bit",
   "language": "python",
   "name": "python3"
  },
  "language_info": {
   "codemirror_mode": {
    "name": "ipython",
    "version": 3
   },
   "file_extension": ".py",
   "mimetype": "text/x-python",
   "name": "python",
   "nbconvert_exporter": "python",
   "pygments_lexer": "ipython3",
   "version": "3.7.5"
  },
  "orig_nbformat": 4
 },
 "nbformat": 4,
 "nbformat_minor": 2
}
