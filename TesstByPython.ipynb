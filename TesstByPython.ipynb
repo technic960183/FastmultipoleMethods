{
 "cells": [
  {
   "cell_type": "code",
   "execution_count": 1,
   "metadata": {},
   "outputs": [],
   "source": [
    "import numpy as np\n",
    "import scipy.special as sp\n"
   ]
  },
  {
   "cell_type": "code",
   "execution_count": 2,
   "metadata": {},
   "outputs": [],
   "source": [
    "def CarToSph(xyz):\n",
    "    if len(xyz.shape)==2:\n",
    "        x, y, z = xyz[:,0], xyz[:,1], xyz[:,2]\n",
    "    elif len(xyz.shape)==1:\n",
    "        x, y, z = xyz[0], xyz[1], xyz[2]\n",
    "    r = np.sqrt(x**2+y**2+z**2)\n",
    "    theta = np.arccos(z/r)\n",
    "    phi = np.arctan2(y, x)\n",
    "    return r, theta, phi\n",
    "\n",
    "\n",
    "def SphToCar(r, theta, phi):\n",
    "    x = r*np.cos(phi)*np.sin(theta)\n",
    "    y = r*np.sin(phi)*np.sin(theta)\n",
    "    z = r*np.cos(theta)\n",
    "    return x, y, z\n"
   ]
  },
  {
   "cell_type": "code",
   "execution_count": 3,
   "metadata": {},
   "outputs": [],
   "source": [
    "N = 1000\n",
    "particle = np.random.uniform(size=(N, 4))\n"
   ]
  },
  {
   "cell_type": "code",
   "execution_count": 4,
   "metadata": {},
   "outputs": [],
   "source": [
    "eps = 10**-2\n",
    "p = int(np.ceil(-np.log(eps)/np.log(3**0.5)))\n"
   ]
  },
  {
   "cell_type": "code",
   "execution_count": 5,
   "metadata": {},
   "outputs": [],
   "source": [
    "level = int(np.ceil(np.log2(N)/3)) + 1\n",
    "idx_particle = -np.ones(shape=(N, level, 3), dtype=np.int32)\n",
    "for i in range(N):\n",
    "    idx_particle[i, 0, :] = 0\n",
    "    residu = particle[i, :3]\n",
    "    for j in range(1, level):\n",
    "        split = np.int32(residu > 0.5)\n",
    "        idx_particle[i, j, :] = idx_particle[i, j-1, :]*2+split\n",
    "        residu = 2*residu-split\n"
   ]
  },
  {
   "cell_type": "code",
   "execution_count": 6,
   "metadata": {},
   "outputs": [],
   "source": [
    "def XYZToL(idx, level):\n",
    "    n = 2**level\n",
    "    return idx[2]*n*n+idx[1]*n+idx[0]\n",
    "\n",
    "\n",
    "def LToXYZ(l, level):\n",
    "    n = 2**level\n",
    "    z = l//(n*n)\n",
    "    y = (l-z*n*n)//n\n",
    "    x = (l-z*n*n) % n\n",
    "    return np.array([x, y, z])\n"
   ]
  },
  {
   "cell_type": "code",
   "execution_count": 7,
   "metadata": {},
   "outputs": [
    {
     "data": {
      "text/plain": [
       "array([541, 342, 247])"
      ]
     },
     "execution_count": 7,
     "metadata": {},
     "output_type": "execute_result"
    }
   ],
   "source": [
    "LToXYZ(XYZToL([541, 342, 247], 10), 10)\n"
   ]
  },
  {
   "cell_type": "code",
   "execution_count": 8,
   "metadata": {},
   "outputs": [],
   "source": [
    "tree_idx = [[[] for j in range(8**i)] for i in range(level)]\n",
    "for i in range(level):\n",
    "    for j in range(N):\n",
    "        tree_idx[i][XYZToL(idx_particle[j, i, :], i)].append(j)\n"
   ]
  },
  {
   "cell_type": "code",
   "execution_count": 21,
   "metadata": {},
   "outputs": [],
   "source": [
    "def CellCenter(idx, level):\n",
    "    return idx*2**(-level)+2**(-level-1)\n"
   ]
  },
  {
   "cell_type": "code",
   "execution_count": 22,
   "metadata": {},
   "outputs": [],
   "source": [
    "def NeighboursRange(center_idx, center_level):\n",
    "    return [np.maximum(0, center_idx[center_level, :]-1), np.minimum(2**center_level-1, center_idx[center_level, :]+1)]\n",
    "\n",
    "\n",
    "def NeighboursChildRange(center_idx, center_level):\n",
    "    return [np.maximum(0, 2*(center_idx[center_level, :]-1)), np.minimum(2**(center_level+1)-1, 2*center_idx[center_level, :]+3)]\n"
   ]
  },
  {
   "cell_type": "code",
   "execution_count": 23,
   "metadata": {},
   "outputs": [],
   "source": [
    "def Y(m, n, theta, phi):\n",
    "    y = np.sqrt(sp.factorial(n-abs(m))/sp.factorial(n+abs(m)))\\\n",
    "        * sp.lpmn(abs(m), n, np.cos(theta))[0][-1][n]\n",
    "    y_real = y*np.cos(m*phi)\n",
    "    y_image = y*np.sin(m*phi)\n",
    "    return np.array([y_real, y_image])\n",
    "\n",
    "\n",
    "def M(m, n, mass, relat_xyz):\n",
    "    corr_sph = CarToSph(relat_xyz)\n",
    "    sum = np.zeros(2)\n",
    "    for k in range(mass.shape[0]):\n",
    "        y = Y(-m, n, corr_sph[1][k], corr_sph[2][k])\n",
    "        sum += mass[k]*corr_sph[0][k]**n * y\n",
    "    return sum\n",
    "\n",
    "\n",
    "def phi(relat_xyz, M_coeff):\n",
    "    corr_sph = CarToSph(relat_xyz)\n",
    "    tot = np.zeros(2)\n",
    "    for n in range(M_coeff.shape[0]):\n",
    "        for m in range(0, n+1):  # range(-n, n+1):\n",
    "            y = Y(m, n, corr_sph[1], corr_sph[2])/(corr_sph[0]**(n+1))\n",
    "            if m == 0:\n",
    "                tot += ComplexMultiply(M_coeff[n, m, :], y)\n",
    "            else:\n",
    "                C = ComplexMultiply(M_coeff[n, m, :], y)\n",
    "                C[1] = 0\n",
    "                tot += 2*C\n",
    "    return tot\n",
    "\n",
    "\n",
    "def ComplexMultiply(A, B):\n",
    "    return np.array([A[0]*B[0]-A[1]*B[1], A[0]*B[1]+A[1]*B[0]])\n"
   ]
  },
  {
   "cell_type": "code",
   "execution_count": 24,
   "metadata": {},
   "outputs": [],
   "source": [
    "# O(NlogN) scheme\n",
    "\n",
    "M_tree = [np.zeros(shape=(8**i, p+1, p+1, 2)) for i in range(level)]\n",
    "for i in range(level):\n",
    "    for j in range(8**i):\n",
    "        idx = np.array(tree_idx[i][j])\n",
    "        if len(idx) == 0:\n",
    "            continue\n",
    "        XYZ = particle[idx, :3] - CellCenter(LToXYZ(j, i), i)\n",
    "        mass = particle[idx, 3]\n",
    "        for n in range(p+1):\n",
    "            for m in range(0, n+1):\n",
    "                M_tree[i][j, n, m, :] = M(m, n, mass, XYZ)"
   ]
  },
  {
   "cell_type": "code",
   "execution_count": 13,
   "metadata": {},
   "outputs": [],
   "source": [
    "a = M_tree[2]"
   ]
  },
  {
   "cell_type": "code",
   "execution_count": 25,
   "metadata": {},
   "outputs": [],
   "source": [
    "potential = np.zeros(shape=(N,2))\n",
    "for i in range(100):\n",
    "    incl = NeighboursRange(idx_particle[i, :, :], level-1) # Direct evaluate\n",
    "    for x in range(incl[0][0], incl[1][0]+1):\n",
    "        for y in range(incl[0][1], incl[1][1]+1):\n",
    "            for z in range(incl[0][2], incl[1][2]+1):\n",
    "                index = np.array(tree_idx[level-1][XYZToL([x, y, z], level-1)])\n",
    "                if len(idx) == 0:\n",
    "                    continue\n",
    "                for id in index:\n",
    "                    if id == i:\n",
    "                        continue\n",
    "                    dXYZ = particle[id, :3] - particle[i, :3]\n",
    "                    r = np.sqrt(np.sum(dXYZ**2))\n",
    "                    potential[i,:] += particle[id, 3]/r\n",
    "    for j in range(2, level):\n",
    "        # Range of parent's neighbours\n",
    "        incl = NeighboursChildRange(idx_particle[i, :, :], j-1)\n",
    "        excl = NeighboursRange(idx_particle[i, :, :], j)  # Range of neighbours\n",
    "        for x in range(incl[0][0], incl[1][0]+1):\n",
    "            for y in range(incl[0][1], incl[1][1]+1):\n",
    "                for z in range(incl[0][2], incl[1][2]+1):\n",
    "                    if excl[0][0] <= x and excl[1][0] >= x and excl[0][1] <= y and excl[1][1] >= y and excl[0][2] <= z and excl[1][2] >= z:\n",
    "                        continue\n",
    "                    RelativeXYZ = particle[i, :3] - CellCenter(np.array([x, y, z]), j)\n",
    "                    potential[i,:] += phi(RelativeXYZ, M_tree[j][XYZToL([x, y, z], j), :, :, :])\n",
    "                    "
   ]
  },
  {
   "cell_type": "code",
   "execution_count": 15,
   "metadata": {},
   "outputs": [],
   "source": [
    "potential_direct = np.zeros(N)\n",
    "for i in range(100):\n",
    "    for j in range(N):\n",
    "        if i == j:\n",
    "            continue\n",
    "        dXYZ = particle[j, :3] - particle[i, :3]\n",
    "        r = np.sqrt(np.sum(dXYZ**2))\n",
    "        potential_direct[i] += particle[j, 3]/r\n"
   ]
  },
  {
   "cell_type": "code",
   "execution_count": 16,
   "metadata": {},
   "outputs": [],
   "source": [
    "import matplotlib.pyplot as plt"
   ]
  },
  {
   "cell_type": "code",
   "execution_count": 17,
   "metadata": {},
   "outputs": [
    {
     "data": {
      "text/plain": [
       "Text(0, 0.5, 'Direct-N')"
      ]
     },
     "execution_count": 17,
     "metadata": {},
     "output_type": "execute_result"
    },
    {
     "data": {
      "image/png": "[encoded data removed]",
      "text/plain": [
       "<Figure size 720x576 with 1 Axes>"
      ]
     },
     "metadata": {
      "needs_background": "light"
     },
     "output_type": "display_data"
    }
   ],
   "source": [
    "\n",
    "plt.figure(figsize=(10,8))\n",
    "plt.scatter(potential[:,0],potential_direct,s=2)\n",
    "plt.plot([0,1500],[0,1500],color='r')\n",
    "plt.xlabel(\"FMM\")\n",
    "plt.ylabel(\"Direct-N\")"
   ]
  },
  {
   "cell_type": "code",
   "execution_count": 18,
   "metadata": {},
   "outputs": [
    {
     "data": {
      "text/plain": [
       "(array([  0.,   0.,   0.,   0.,   0.,   0.,   0.,   0.,   0.,   0., 100.,\n",
       "          0.,   0.,   0.,   0.,   0.,   0.,   0.,   0.,   0.]),\n",
       " array([-0.5 , -0.45, -0.4 , -0.35, -0.3 , -0.25, -0.2 , -0.15, -0.1 ,\n",
       "        -0.05,  0.  ,  0.05,  0.1 ,  0.15,  0.2 ,  0.25,  0.3 ,  0.35,\n",
       "         0.4 ,  0.45,  0.5 ]),\n",
       " <BarContainer object of 20 artists>)"
      ]
     },
     "execution_count": 18,
     "metadata": {},
     "output_type": "execute_result"
    },
    {
     "data": {
      "image/png": "[encoded data removed]",
      "text/plain": [
       "<Figure size 432x288 with 1 Axes>"
      ]
     },
     "metadata": {
      "needs_background": "light"
     },
     "output_type": "display_data"
    }
   ],
   "source": [
    "plt.hist(potential[:100,1],bins=20,log=True)"
   ]
  },
  {
   "cell_type": "code",
   "execution_count": null,
   "metadata": {},
   "outputs": [],
   "source": []
  }
 ],
 "metadata": {
  "interpreter": {
   "hash": "fd9c1a0a128020410df4605db2c4755acdb7550ad8223d84799f97ba65fba01e"
  },
  "kernelspec": {
   "display_name": "Python 3.7.5 64-bit",
   "language": "python",
   "name": "python3"
  },
  "language_info": {
   "codemirror_mode": {
    "name": "ipython",
    "version": 3
   },
   "file_extension": ".py",
   "mimetype": "text/x-python",
   "name": "python",
   "nbconvert_exporter": "python",
   "pygments_lexer": "ipython3",
   "version": "3.7.5"
  },
  "orig_nbformat": 4
 },
 "nbformat": 4,
 "nbformat_minor": 2
}
